{
 "cells": [
  {
   "cell_type": "code",
   "execution_count": 1,
   "id": "cloudy-liquid",
   "metadata": {},
   "outputs": [],
   "source": [
    "from datetime import datetime, timedelta\n",
    "import greeks as gk\n",
    "e = gk.Env(datetime.now())\n",
    "\n",
    "start = gk.Point(env=e, value=e.now().value())"
   ]
  },
  {
   "cell_type": "code",
   "execution_count": 2,
   "id": "logical-thompson",
   "metadata": {},
   "outputs": [],
   "source": [
    "rate = gk.Rate(env=e, name=\"Rate\", value=5, at=e.now())"
   ]
  },
  {
   "cell_type": "code",
   "execution_count": 3,
   "id": "moral-brick",
   "metadata": {},
   "outputs": [
    {
     "data": {
      "text/plain": [
       "5"
      ]
     },
     "execution_count": 3,
     "metadata": {},
     "output_type": "execute_result"
    }
   ],
   "source": [
    "rate()"
   ]
  },
  {
   "cell_type": "code",
   "execution_count": 4,
   "id": "major-cable",
   "metadata": {},
   "outputs": [],
   "source": [
    "def settle(underlying, start, now):\n",
    "    # if underlying > underlying@start, credit difference\n",
    "    # else debit difference\n",
    "    start = start.value()\n",
    "    now = now.value()\n",
    "    return underlying.value(at=now) - underlying.value(at=start)\n",
    "        "
   ]
  },
  {
   "cell_type": "code",
   "execution_count": 5,
   "id": "naval-collins",
   "metadata": {},
   "outputs": [],
   "source": [
    "class FloatingLeg(gk.Timeseries):\n",
    "    def __init__(self, env, start, underlying):\n",
    "        self._start = start\n",
    "        self._underlying = underlying\n",
    "\n",
    "        super().__init__(\n",
    "            env=env,\n",
    "            name=\"FloatingLeg\",\n",
    "            callable=settle,\n",
    "            callable_kwargs={\n",
    "                \"start\": self._start,\n",
    "                \"now\": env.now(),\n",
    "                \"underlying\": self._underlying,\n",
    "            },\n",
    "        )\n"
   ]
  },
  {
   "cell_type": "code",
   "execution_count": 6,
   "id": "governmental-basement",
   "metadata": {},
   "outputs": [],
   "source": [
    "fl = FloatingLeg(env=e, start=start, underlying=rate)"
   ]
  },
  {
   "cell_type": "code",
   "execution_count": 7,
   "id": "gorgeous-truth",
   "metadata": {},
   "outputs": [
    {
     "data": {
      "text/plain": [
       "0"
      ]
     },
     "execution_count": 7,
     "metadata": {},
     "output_type": "execute_result"
    }
   ],
   "source": [
    "fl()"
   ]
  },
  {
   "cell_type": "code",
   "execution_count": 8,
   "id": "accessible-monitor",
   "metadata": {},
   "outputs": [],
   "source": [
    "rate.setValue(value=6, at=start() + timedelta(days=1))"
   ]
  },
  {
   "cell_type": "code",
   "execution_count": 9,
   "id": "spatial-brighton",
   "metadata": {},
   "outputs": [],
   "source": [
    "e.now().setValue(start() + timedelta(days=1))"
   ]
  },
  {
   "cell_type": "code",
   "execution_count": 10,
   "id": "pregnant-invasion",
   "metadata": {},
   "outputs": [
    {
     "data": {
      "text/plain": [
       "1"
      ]
     },
     "execution_count": 10,
     "metadata": {},
     "output_type": "execute_result"
    }
   ],
   "source": [
    "fl()"
   ]
  },
  {
   "cell_type": "code",
   "execution_count": 11,
   "id": "colored-disability",
   "metadata": {},
   "outputs": [
    {
     "data": {
      "text/plain": [
       "Timestamp('2021-03-13 00:52:28.099173')"
      ]
     },
     "execution_count": 11,
     "metadata": {},
     "output_type": "execute_result"
    }
   ],
   "source": [
    "e.now()()"
   ]
  },
  {
   "cell_type": "code",
   "execution_count": 12,
   "id": "dress-message",
   "metadata": {},
   "outputs": [
    {
     "data": {
      "text/plain": [
       "Timestamp('2021-03-13 00:52:28.099173')"
      ]
     },
     "execution_count": 12,
     "metadata": {},
     "output_type": "execute_result"
    }
   ],
   "source": [
    "e.now()()"
   ]
  },
  {
   "cell_type": "code",
   "execution_count": null,
   "id": "plastic-mandate",
   "metadata": {},
   "outputs": [],
   "source": []
  },
  {
   "cell_type": "code",
   "execution_count": null,
   "id": "flush-europe",
   "metadata": {},
   "outputs": [],
   "source": []
  }
 ],
 "metadata": {
  "kernelspec": {
   "display_name": "Python 3",
   "language": "python",
   "name": "python3"
  },
  "language_info": {
   "codemirror_mode": {
    "name": "ipython",
    "version": 3
   },
   "file_extension": ".py",
   "mimetype": "text/x-python",
   "name": "python",
   "nbconvert_exporter": "python",
   "pygments_lexer": "ipython3",
   "version": "3.9.2"
  }
 },
 "nbformat": 4,
 "nbformat_minor": 5
}
